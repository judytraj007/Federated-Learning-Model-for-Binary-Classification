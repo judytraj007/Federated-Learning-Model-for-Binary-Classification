{
 "cells": [
  {
   "cell_type": "code",
   "execution_count": 1,
   "metadata": {},
   "outputs": [],
   "source": [
    "import copy\n",
    "import numpy as np\n",
    "import matplotlib.pyplot as plt\n",
    "\n",
    "import torch\n",
    "import torch.nn as nn\n",
    "import torch.optim as optim\n",
    "from torch.optim import lr_scheduler\n",
    "\n",
    "import torchvision\n",
    "from torchvision import datasets,transforms "
   ]
  },
  {
   "cell_type": "code",
   "execution_count": 2,
   "metadata": {},
   "outputs": [],
   "source": [
    "device = torch.device(\"cuda:0\" if torch.cuda.is_available() else \"cpu\")"
   ]
  },
  {
   "cell_type": "markdown",
   "metadata": {},
   "source": [
    "### Load data\n",
    "* Download train and test set\n",
    "* Apply transforms\n",
    "* Define dataloaders"
   ]
  },
  {
   "cell_type": "code",
   "execution_count": 3,
   "metadata": {},
   "outputs": [],
   "source": [
    "mean = [0.485, 0.456, 0.406]\n",
    "std  = [0.229, 0.224, 0.225]"
   ]
  },
  {
   "cell_type": "code",
   "execution_count": 4,
   "metadata": {},
   "outputs": [],
   "source": [
    "train_transform = transforms.Compose([\n",
    "    transforms.RandomResizedCrop(224),\n",
    "    transforms.RandomHorizontalFlip(),\n",
    "    transforms.ToTensor(),\n",
    "    transforms.Normalize(mean=mean,\n",
    "                         std=std)\n",
    "])"
   ]
  },
  {
   "cell_type": "code",
   "execution_count": 5,
   "metadata": {},
   "outputs": [],
   "source": [
    "test_transform = transforms.Compose([\n",
    "    transforms.Resize(256),\n",
    "    transforms.CenterCrop(224),\n",
    "    transforms.ToTensor(),\n",
    "    transforms.Normalize(mean=mean,\n",
    "                         std=std)\n",
    "])"
   ]
  },
  {
   "cell_type": "code",
   "execution_count": 6,
   "metadata": {},
   "outputs": [],
   "source": [
    "train_dir = 'cats_or_dogs/train'\n",
    "test_dir = 'cats_or_dogs/test'"
   ]
  },
  {
   "cell_type": "code",
   "execution_count": 7,
   "metadata": {},
   "outputs": [],
   "source": [
    "train_data = datasets.ImageFolder(root=train_dir,\n",
    "                                  transform=train_transform)"
   ]
  },
  {
   "cell_type": "code",
   "execution_count": 8,
   "metadata": {},
   "outputs": [
    {
     "data": {
      "text/plain": [
       "Dataset ImageFolder\n",
       "    Number of datapoints: 2002\n",
       "    Root location: cats_or_dogs/train\n",
       "    StandardTransform\n",
       "Transform: Compose(\n",
       "               RandomResizedCrop(size=(224, 224), scale=(0.08, 1.0), ratio=(0.75, 1.3333), interpolation=PIL.Image.BILINEAR)\n",
       "               RandomHorizontalFlip(p=0.5)\n",
       "               ToTensor()\n",
       "               Normalize(mean=[0.485, 0.456, 0.406], std=[0.229, 0.224, 0.225])\n",
       "           )"
      ]
     },
     "execution_count": 8,
     "metadata": {},
     "output_type": "execute_result"
    }
   ],
   "source": [
    "train_data"
   ]
  },
  {
   "cell_type": "code",
   "execution_count": 9,
   "metadata": {},
   "outputs": [],
   "source": [
    "train_loader = torch.utils.data.DataLoader(train_data, batch_size=4,\n",
    "                                           shuffle=True, num_workers=4)"
   ]
  },
  {
   "cell_type": "code",
   "execution_count": 10,
   "metadata": {},
   "outputs": [],
   "source": [
    "test_data = datasets.ImageFolder(root=test_dir,\n",
    "                                transform=test_transform)"
   ]
  },
  {
   "cell_type": "code",
   "execution_count": 11,
   "metadata": {},
   "outputs": [
    {
     "data": {
      "text/plain": [
       "Dataset ImageFolder\n",
       "    Number of datapoints: 1012\n",
       "    Root location: cats_or_dogs/test\n",
       "    StandardTransform\n",
       "Transform: Compose(\n",
       "               Resize(size=256, interpolation=PIL.Image.BILINEAR)\n",
       "               CenterCrop(size=(224, 224))\n",
       "               ToTensor()\n",
       "               Normalize(mean=[0.485, 0.456, 0.406], std=[0.229, 0.224, 0.225])\n",
       "           )"
      ]
     },
     "execution_count": 11,
     "metadata": {},
     "output_type": "execute_result"
    }
   ],
   "source": [
    "test_data"
   ]
  },
  {
   "cell_type": "code",
   "execution_count": 12,
   "metadata": {},
   "outputs": [],
   "source": [
    "test_loader = torch.utils.data.DataLoader(test_data, batch_size=8,\n",
    "                                          shuffle=True, num_workers=4)"
   ]
  },
  {
   "cell_type": "code",
   "execution_count": 13,
   "metadata": {},
   "outputs": [],
   "source": [
    "dataloaders = {\n",
    "    'train': train_loader,\n",
    "    'test': test_loader\n",
    "}"
   ]
  },
  {
   "cell_type": "markdown",
   "metadata": {},
   "source": [
    "### Transfer learning\n",
    "* Load the pretrained model, AlexNet\n",
    "* Define parameters\n",
    "* The criterion to minimize in the loss function. Given this is a classification model, we will look to minimize the cross-entropy loss\n",
    "* A simple SGD optimizer with momentum which accelerate gradients vectors in the right directions and hence leads to faster converging\n",
    "* Scheduler to decay Learning Rate by a factor of 0.1 every 7 epochs\n"
   ]
  },
  {
   "cell_type": "code",
   "execution_count": 14,
   "metadata": {},
   "outputs": [],
   "source": [
    "from torchvision import models\n",
    "\n",
    "model = models.alexnet(pretrained=True)"
   ]
  },
  {
   "cell_type": "code",
   "execution_count": 15,
   "metadata": {},
   "outputs": [
    {
     "data": {
      "text/plain": [
       "AlexNet(\n",
       "  (features): Sequential(\n",
       "    (0): Conv2d(3, 64, kernel_size=(11, 11), stride=(4, 4), padding=(2, 2))\n",
       "    (1): ReLU(inplace=True)\n",
       "    (2): MaxPool2d(kernel_size=3, stride=2, padding=0, dilation=1, ceil_mode=False)\n",
       "    (3): Conv2d(64, 192, kernel_size=(5, 5), stride=(1, 1), padding=(2, 2))\n",
       "    (4): ReLU(inplace=True)\n",
       "    (5): MaxPool2d(kernel_size=3, stride=2, padding=0, dilation=1, ceil_mode=False)\n",
       "    (6): Conv2d(192, 384, kernel_size=(3, 3), stride=(1, 1), padding=(1, 1))\n",
       "    (7): ReLU(inplace=True)\n",
       "    (8): Conv2d(384, 256, kernel_size=(3, 3), stride=(1, 1), padding=(1, 1))\n",
       "    (9): ReLU(inplace=True)\n",
       "    (10): Conv2d(256, 256, kernel_size=(3, 3), stride=(1, 1), padding=(1, 1))\n",
       "    (11): ReLU(inplace=True)\n",
       "    (12): MaxPool2d(kernel_size=3, stride=2, padding=0, dilation=1, ceil_mode=False)\n",
       "  )\n",
       "  (avgpool): AdaptiveAvgPool2d(output_size=(6, 6))\n",
       "  (classifier): Sequential(\n",
       "    (0): Dropout(p=0.5, inplace=False)\n",
       "    (1): Linear(in_features=9216, out_features=4096, bias=True)\n",
       "    (2): ReLU(inplace=True)\n",
       "    (3): Dropout(p=0.5, inplace=False)\n",
       "    (4): Linear(in_features=4096, out_features=4096, bias=True)\n",
       "    (5): ReLU(inplace=True)\n",
       "    (6): Linear(in_features=4096, out_features=1000, bias=True)\n",
       "  )\n",
       ")"
      ]
     },
     "execution_count": 15,
     "metadata": {},
     "output_type": "execute_result"
    }
   ],
   "source": [
    "model"
   ]
  },
  {
   "cell_type": "code",
   "execution_count": 16,
   "metadata": {},
   "outputs": [
    {
     "data": {
      "text/plain": [
       "4096"
      ]
     },
     "execution_count": 16,
     "metadata": {},
     "output_type": "execute_result"
    }
   ],
   "source": [
    "num_ftrs = model.classifier[6].in_features\n",
    "num_ftrs"
   ]
  },
  {
   "cell_type": "markdown",
   "metadata": {},
   "source": [
    "### Finetuning the network"
   ]
  },
  {
   "cell_type": "code",
   "execution_count": 17,
   "metadata": {},
   "outputs": [],
   "source": [
    "model.classifier[6] = nn.Linear(num_ftrs, 2)"
   ]
  },
  {
   "cell_type": "code",
   "execution_count": 18,
   "metadata": {},
   "outputs": [
    {
     "data": {
      "text/plain": [
       "AlexNet(\n",
       "  (features): Sequential(\n",
       "    (0): Conv2d(3, 64, kernel_size=(11, 11), stride=(4, 4), padding=(2, 2))\n",
       "    (1): ReLU(inplace=True)\n",
       "    (2): MaxPool2d(kernel_size=3, stride=2, padding=0, dilation=1, ceil_mode=False)\n",
       "    (3): Conv2d(64, 192, kernel_size=(5, 5), stride=(1, 1), padding=(2, 2))\n",
       "    (4): ReLU(inplace=True)\n",
       "    (5): MaxPool2d(kernel_size=3, stride=2, padding=0, dilation=1, ceil_mode=False)\n",
       "    (6): Conv2d(192, 384, kernel_size=(3, 3), stride=(1, 1), padding=(1, 1))\n",
       "    (7): ReLU(inplace=True)\n",
       "    (8): Conv2d(384, 256, kernel_size=(3, 3), stride=(1, 1), padding=(1, 1))\n",
       "    (9): ReLU(inplace=True)\n",
       "    (10): Conv2d(256, 256, kernel_size=(3, 3), stride=(1, 1), padding=(1, 1))\n",
       "    (11): ReLU(inplace=True)\n",
       "    (12): MaxPool2d(kernel_size=3, stride=2, padding=0, dilation=1, ceil_mode=False)\n",
       "  )\n",
       "  (avgpool): AdaptiveAvgPool2d(output_size=(6, 6))\n",
       "  (classifier): Sequential(\n",
       "    (0): Dropout(p=0.5, inplace=False)\n",
       "    (1): Linear(in_features=9216, out_features=4096, bias=True)\n",
       "    (2): ReLU(inplace=True)\n",
       "    (3): Dropout(p=0.5, inplace=False)\n",
       "    (4): Linear(in_features=4096, out_features=4096, bias=True)\n",
       "    (5): ReLU(inplace=True)\n",
       "    (6): Linear(in_features=4096, out_features=2, bias=True)\n",
       "  )\n",
       ")"
      ]
     },
     "execution_count": 18,
     "metadata": {},
     "output_type": "execute_result"
    }
   ],
   "source": [
    "model"
   ]
  },
  {
   "cell_type": "markdown",
   "metadata": {},
   "source": [
    "### Training the model from scratch"
   ]
  },
  {
   "cell_type": "code",
   "execution_count": 19,
   "metadata": {},
   "outputs": [],
   "source": [
    "criterion   = nn.CrossEntropyLoss()\n",
    "\n",
    "optimizer   = torch.optim.SGD(model.parameters(), lr=0.001, momentum=0.9)"
   ]
  },
  {
   "cell_type": "code",
   "execution_count": 20,
   "metadata": {},
   "outputs": [],
   "source": [
    "def train_model(model, criterion, optimizer, num_epochs=25):\n",
    "\n",
    "    model = model.to(device)\n",
    "    total_step = len(dataloaders['train'])\n",
    "\n",
    "\n",
    "    for epoch in range(num_epochs):\n",
    "        print('epoch=',epoch)        \n",
    "\n",
    "        for i, (images,labels)  in enumerate((dataloaders['train'])):\n",
    "\n",
    "                images = images.to(device)\n",
    "                labels = labels.to(device)\n",
    "    \n",
    "                outputs = model(images)\n",
    "                outputs = outputs.to(device)\n",
    "                loss = criterion(outputs,labels)\n",
    "\n",
    "                optimizer.zero_grad()\n",
    "                loss.backward()\n",
    "                optimizer.step()\n",
    "\n",
    "                if (i+1) % 100 == 0:\n",
    "                    print ('Epoch [{}/{}], Step [{}/{}], Loss: {:.4f}' \n",
    "                           .format(epoch+1, num_epochs, i+1, total_step, loss.item()))\n",
    "\n",
    "        print('Epoch - %d, loss - %0.5f '\\\n",
    "            %(epoch, loss.item()))\n",
    "\n",
    "    return model"
   ]
  },
  {
   "cell_type": "code",
   "execution_count": 21,
   "metadata": {},
   "outputs": [
    {
     "name": "stdout",
     "output_type": "stream",
     "text": [
      "epoch= 0\n",
      "Epoch [1/10], Step [100/501], Loss: 0.6808\n",
      "Epoch [1/10], Step [200/501], Loss: 0.4314\n",
      "Epoch [1/10], Step [300/501], Loss: 0.7871\n",
      "Epoch [1/10], Step [400/501], Loss: 0.4017\n",
      "Epoch [1/10], Step [500/501], Loss: 0.4428\n",
      "Epoch - 0, loss - 0.65200 \n",
      "epoch= 1\n",
      "Epoch [2/10], Step [100/501], Loss: 0.5634\n",
      "Epoch [2/10], Step [200/501], Loss: 0.2472\n",
      "Epoch [2/10], Step [300/501], Loss: 0.6122\n",
      "Epoch [2/10], Step [400/501], Loss: 0.5157\n",
      "Epoch [2/10], Step [500/501], Loss: 0.8063\n",
      "Epoch - 1, loss - 0.65611 \n",
      "epoch= 2\n",
      "Epoch [3/10], Step [100/501], Loss: 0.3014\n",
      "Epoch [3/10], Step [200/501], Loss: 1.5598\n",
      "Epoch [3/10], Step [300/501], Loss: 0.2335\n",
      "Epoch [3/10], Step [400/501], Loss: 0.6177\n",
      "Epoch [3/10], Step [500/501], Loss: 0.5949\n",
      "Epoch - 2, loss - 0.72163 \n",
      "epoch= 3\n",
      "Epoch [4/10], Step [100/501], Loss: 0.1945\n",
      "Epoch [4/10], Step [200/501], Loss: 0.4695\n",
      "Epoch [4/10], Step [300/501], Loss: 0.0730\n",
      "Epoch [4/10], Step [400/501], Loss: 0.8941\n",
      "Epoch [4/10], Step [500/501], Loss: 0.3730\n",
      "Epoch - 3, loss - 0.59961 \n",
      "epoch= 4\n",
      "Epoch [5/10], Step [100/501], Loss: 0.0046\n",
      "Epoch [5/10], Step [200/501], Loss: 0.3735\n",
      "Epoch [5/10], Step [300/501], Loss: 0.0286\n",
      "Epoch [5/10], Step [400/501], Loss: 0.3004\n",
      "Epoch [5/10], Step [500/501], Loss: 0.1030\n",
      "Epoch - 4, loss - 0.13644 \n",
      "epoch= 5\n",
      "Epoch [6/10], Step [100/501], Loss: 0.1870\n",
      "Epoch [6/10], Step [200/501], Loss: 0.5759\n",
      "Epoch [6/10], Step [300/501], Loss: 0.6805\n",
      "Epoch [6/10], Step [400/501], Loss: 0.1256\n",
      "Epoch [6/10], Step [500/501], Loss: 0.3660\n",
      "Epoch - 5, loss - 0.76958 \n",
      "epoch= 6\n",
      "Epoch [7/10], Step [100/501], Loss: 0.0263\n",
      "Epoch [7/10], Step [200/501], Loss: 0.0488\n",
      "Epoch [7/10], Step [300/501], Loss: 0.5806\n",
      "Epoch [7/10], Step [400/501], Loss: 0.2746\n",
      "Epoch [7/10], Step [500/501], Loss: 0.0363\n",
      "Epoch - 6, loss - 0.71815 \n",
      "epoch= 7\n",
      "Epoch [8/10], Step [100/501], Loss: 0.0704\n",
      "Epoch [8/10], Step [200/501], Loss: 0.4013\n",
      "Epoch [8/10], Step [300/501], Loss: 0.0106\n",
      "Epoch [8/10], Step [400/501], Loss: 0.0307\n",
      "Epoch [8/10], Step [500/501], Loss: 0.1236\n",
      "Epoch - 7, loss - 0.20674 \n",
      "epoch= 8\n",
      "Epoch [9/10], Step [100/501], Loss: 0.7639\n",
      "Epoch [9/10], Step [200/501], Loss: 0.5294\n",
      "Epoch [9/10], Step [300/501], Loss: 0.4932\n",
      "Epoch [9/10], Step [400/501], Loss: 0.8207\n",
      "Epoch [9/10], Step [500/501], Loss: 0.1918\n",
      "Epoch - 8, loss - 0.02119 \n",
      "epoch= 9\n",
      "Epoch [10/10], Step [100/501], Loss: 0.2404\n",
      "Epoch [10/10], Step [200/501], Loss: 0.2585\n",
      "Epoch [10/10], Step [300/501], Loss: 0.0406\n",
      "Epoch [10/10], Step [400/501], Loss: 0.2412\n",
      "Epoch [10/10], Step [500/501], Loss: 0.0298\n",
      "Epoch - 9, loss - 0.68358 \n"
     ]
    }
   ],
   "source": [
    "model = train_model(model, criterion, optimizer, num_epochs=10)"
   ]
  },
  {
   "cell_type": "markdown",
   "metadata": {},
   "source": [
    "### Model Evaluation"
   ]
  },
  {
   "cell_type": "code",
   "execution_count": 22,
   "metadata": {},
   "outputs": [
    {
     "name": "stdout",
     "output_type": "stream",
     "text": [
      "Accuracy of the model on the test images: 92.29249011857708%\n"
     ]
    }
   ],
   "source": [
    "model.eval() \n",
    "\n",
    "with torch.no_grad():\n",
    "    \n",
    "    correct = 0\n",
    "    total = 0\n",
    "    \n",
    "    for images, labels in dataloaders['test']:\n",
    "        \n",
    "        images = images.to(device)\n",
    "        labels = labels.to(device)\n",
    "        \n",
    "        outputs = model(images)\n",
    "        _, predicted = torch.max(outputs.data, 1)\n",
    "        \n",
    "        total += labels.size(0)\n",
    "        correct += (predicted == labels).sum().item()\n",
    "\n",
    "    print('Accuracy of the model on the test images: {}%'\\\n",
    "          .format(100 * correct / total))\n"
   ]
  },
  {
   "cell_type": "code",
   "execution_count": null,
   "metadata": {},
   "outputs": [],
   "source": []
  }
 ],
 "metadata": {
  "kernelspec": {
   "display_name": "Python 3",
   "language": "python",
   "name": "python3"
  },
  "language_info": {
   "codemirror_mode": {
    "name": "ipython",
    "version": 3
   },
   "file_extension": ".py",
   "mimetype": "text/x-python",
   "name": "python",
   "nbconvert_exporter": "python",
   "pygments_lexer": "ipython3",
   "version": "3.7.3"
  }
 },
 "nbformat": 4,
 "nbformat_minor": 2
}
