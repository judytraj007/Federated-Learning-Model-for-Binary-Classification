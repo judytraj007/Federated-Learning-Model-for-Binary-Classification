{
 "cells": [
  {
   "cell_type": "markdown",
   "metadata": {},
   "source": [
    "### Split data into 10 folders"
   ]
  },
  {
   "cell_type": "code",
   "execution_count": 1,
   "metadata": {},
   "outputs": [],
   "source": [
    "import os\n",
    "import shutil"
   ]
  },
  {
   "cell_type": "code",
   "execution_count": 7,
   "metadata": {},
   "outputs": [],
   "source": [
    "train_dir_cats = 'cats_or_dogs/train/cats/'\n",
    "train_dir_dogs = 'cats_or_dogs/train/dogs/'\n",
    "dest_dir ='Data/'"
   ]
  },
  {
   "cell_type": "code",
   "execution_count": null,
   "metadata": {},
   "outputs": [],
   "source": [
    "i=1\n",
    "new_path = os.path.join(dest_dir,str(i),'train/cats/')\n",
    "os.makedirs(new_path)\n",
    "count=0\n",
    "for file in os.listdir(test_dir_cats):\n",
    "    count+=1\n",
    "    if count%50==0:\n",
    "        i+=1\n",
    "        new_path = os.path.join(dest_dir,str(i),'train/cats/')\n",
    "        os.makedirs(new_path)\n",
    "    shutil.copy(test_dir_cats + file, new_path + file)"
   ]
  },
  {
   "cell_type": "markdown",
   "metadata": {},
   "source": [
    "### Import Libraries"
   ]
  },
  {
   "cell_type": "code",
   "execution_count": 2,
   "metadata": {},
   "outputs": [],
   "source": [
    "import copy\n",
    "import numpy as np\n",
    "\n",
    "import torch\n",
    "import torch.nn as nn\n",
    "import torch.optim as optim\n",
    "from torch.optim import lr_scheduler\n",
    "\n",
    "import torchvision\n",
    "from torchvision import models\n",
    "from torchvision import datasets,transforms "
   ]
  },
  {
   "cell_type": "markdown",
   "metadata": {},
   "source": [
    "### Define transforms"
   ]
  },
  {
   "cell_type": "code",
   "execution_count": 3,
   "metadata": {},
   "outputs": [],
   "source": [
    "mean = [0.485, 0.456, 0.406]\n",
    "std  = [0.229, 0.224, 0.225]\n",
    "\n",
    "train_transform = transforms.Compose([\n",
    "    transforms.RandomResizedCrop(224),\n",
    "    transforms.RandomHorizontalFlip(),\n",
    "    transforms.ToTensor(),\n",
    "    transforms.Normalize(mean=mean,\n",
    "                         std=std)\n",
    "])\n",
    "\n",
    "test_transform = transforms.Compose([\n",
    "    transforms.Resize(256),\n",
    "    transforms.CenterCrop(224),\n",
    "    transforms.ToTensor(),\n",
    "    transforms.Normalize(mean=mean,\n",
    "                         std=std)\n",
    "])"
   ]
  },
  {
   "cell_type": "markdown",
   "metadata": {},
   "source": [
    "### Create a list to hold all the models"
   ]
  },
  {
   "cell_type": "code",
   "execution_count": 4,
   "metadata": {},
   "outputs": [],
   "source": [
    "models_ = list()"
   ]
  },
  {
   "cell_type": "markdown",
   "metadata": {},
   "source": [
    "### Define train method"
   ]
  },
  {
   "cell_type": "code",
   "execution_count": 5,
   "metadata": {},
   "outputs": [],
   "source": [
    "def train_model(model, trainloader, criterion, optimizer, num_epochs=25):\n",
    "\n",
    "    total_step = len(trainloader)\n",
    "\n",
    "\n",
    "    for epoch in range(num_epochs):\n",
    "\n",
    "        for images,labels in trainloader:\n",
    "    \n",
    "                outputs = model(images)\n",
    "                loss = criterion(outputs,labels)\n",
    "\n",
    "                optimizer.zero_grad()\n",
    "                loss.backward()\n",
    "                optimizer.step()\n",
    "                \n",
    "        if(epoch==9):\n",
    "                print(epoch, loss.item())\n",
    "                \n",
    "    return model"
   ]
  },
  {
   "cell_type": "markdown",
   "metadata": {},
   "source": [
    "### Define and train 10 models on their own data subsets"
   ]
  },
  {
   "cell_type": "code",
   "execution_count": null,
   "metadata": {},
   "outputs": [],
   "source": [
    "for i in range(1,11):\n",
    "    train_dir = os.path.join(dest_dir,str(i),'train')\n",
    "    \n",
    "    train_data= datasets.ImageFolder(root=train_dir,transform=train_transform)\n",
    "    train_loader = torch.utils.data.DataLoader(train_data, batch_size=4,shuffle=True, num_workers=0)\n",
    "\n",
    "    model = models.alexnet(pretrained=True)\n",
    "    num_ftrs = model.classifier[6].in_features\n",
    "    model.classifier[6] = nn.Linear(num_ftrs, 2)\n",
    "\n",
    "    criterion   = nn.CrossEntropyLoss()\n",
    "    optimizer   = torch.optim.SGD(model.parameters(), lr=0.001, momentum=0.9)\n",
    "    model = train_model(model, train_loader,criterion, optimizer, num_epochs=10)\n",
    "    \n",
    "    models_.append(model)"
   ]
  },
  {
   "cell_type": "markdown",
   "metadata": {},
   "source": [
    "### Aggregrate the model parameters"
   ]
  },
  {
   "cell_type": "code",
   "execution_count": 10,
   "metadata": {},
   "outputs": [],
   "source": [
    "f_model = models.alexnet(pretrained=True)\n",
    "num_ftrs = f_model.classifier[6].in_features\n",
    "f_model.classifier[6] = nn.Linear(num_ftrs, 2)"
   ]
  },
  {
   "cell_type": "code",
   "execution_count": 11,
   "metadata": {},
   "outputs": [
    {
     "data": {
      "text/plain": [
       "<All keys matched successfully>"
      ]
     },
     "execution_count": 11,
     "metadata": {},
     "output_type": "execute_result"
    }
   ],
   "source": [
    "beta = 0.5 #The interpolation parameter    \n",
    "\n",
    "params = models_[0].named_parameters()\n",
    "dict_params = dict(params)\n",
    "\n",
    "for i in range(1,10):\n",
    "    for name, param in models_[i].named_parameters():\n",
    "        if name in dict_params:\n",
    "            dict_params[name].data.copy_(beta*param.data + (1-beta)*dict_params[name].data)\n",
    "\n",
    "f_model.load_state_dict(dict_params)"
   ]
  },
  {
   "cell_type": "code",
   "execution_count": 12,
   "metadata": {},
   "outputs": [
    {
     "name": "stdout",
     "output_type": "stream",
     "text": [
      "Accuracy of the model on the test images: 91.40316205533597%\n"
     ]
    }
   ],
   "source": [
    "f_model.eval() \n",
    "test_dir = 'cats_or_dogs/test'\n",
    "test_data = datasets.ImageFolder(root=test_dir,transform=test_transform)\n",
    "test_loader = torch.utils.data.DataLoader(test_data, batch_size=8, shuffle=True, num_workers=0)\n",
    "\n",
    "with torch.no_grad():\n",
    "    \n",
    "    correct = 0\n",
    "    total = 0\n",
    "    \n",
    "    for images, labels in test_loader:\n",
    "\n",
    "        \n",
    "        outputs = f_model(images)\n",
    "        _, predicted = torch.max(outputs.data, 1)\n",
    "        \n",
    "        total += labels.size(0)\n",
    "        correct += (predicted == labels).sum().item()\n",
    "\n",
    "    print('Accuracy of the model on the test images: {}%'\\\n",
    "          .format(100 * correct / total))"
   ]
  }
 ],
 "metadata": {
  "kernelspec": {
   "display_name": "Python 3",
   "language": "python",
   "name": "python3"
  },
  "language_info": {
   "codemirror_mode": {
    "name": "ipython",
    "version": 3
   },
   "file_extension": ".py",
   "mimetype": "text/x-python",
   "name": "python",
   "nbconvert_exporter": "python",
   "pygments_lexer": "ipython3",
   "version": "3.6.9"
  }
 },
 "nbformat": 4,
 "nbformat_minor": 2
}
